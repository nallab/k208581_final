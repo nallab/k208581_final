{
 "cells": [
  {
   "cell_type": "markdown",
   "id": "803a81b1-551d-449c-a3b5-a2916d7de5a7",
   "metadata": {},
   "source": [
    "### 作成した階層クラスタ結果を確認する."
   ]
  },
  {
   "cell_type": "code",
   "execution_count": null,
   "id": "1f333f66-b869-4b5d-b3da-b120c297883d",
   "metadata": {},
   "outputs": [],
   "source": [
    "import pandas as pd\n",
    "import numpy as np"
   ]
  },
  {
   "cell_type": "markdown",
   "id": "b644f3db-fb9e-45f1-8954-5dc5e3bef85d",
   "metadata": {},
   "source": [
    "- データの読み込み"
   ]
  },
  {
   "cell_type": "code",
   "execution_count": null,
   "id": "fe9a842b-a75b-4c06-89ba-4a3e15bed966",
   "metadata": {},
   "outputs": [],
   "source": [
    "cluster_df = pd.read_pickle('../../pickles/cluster_df.pkl')\n",
    "cluster_df.head(3)"
   ]
  },
  {
   "cell_type": "code",
   "execution_count": null,
   "id": "fbcecae5-1eb6-4fd4-893f-7e796cb2b97b",
   "metadata": {},
   "outputs": [],
   "source": [
    "len(set(cluster_df[\"class_thre_0.2\"]))"
   ]
  },
  {
   "cell_type": "code",
   "execution_count": null,
   "id": "7afa81cb-7f7b-4a98-b86d-1f4c48c3cfe6",
   "metadata": {
    "tags": []
   },
   "outputs": [],
   "source": [
    "cluster_df[cluster_df['class_thre_0.2'] == 8].sample(10)"
   ]
  },
  {
   "cell_type": "code",
   "execution_count": null,
   "id": "ac75a68c-a198-4da0-996a-29795b2a9cdb",
   "metadata": {
    "tags": []
   },
   "outputs": [],
   "source": [
    "cluster_df[cluster_df.pred.str.contains(\"歌など\")]"
   ]
  },
  {
   "cell_type": "code",
   "execution_count": null,
   "id": "56f5226c-1079-491b-a591-df8baed562a1",
   "metadata": {
    "tags": []
   },
   "outputs": [],
   "source": [
    "for cluster_num, df in cluster_df.groupby('class_thre_0.2'):\n",
    "    print('クラスタ'+ str(cluster_num) +'： 要素数' + str(len(df)))\n",
    "    display(df.pred.value_counts(normalize=True).rename('相対頻度').to_frame().style.bar(vmin=0, vmax=1))\n",
    "    print(\"\")"
   ]
  },
  {
   "cell_type": "code",
   "execution_count": null,
   "id": "d7ed0274-f74e-4372-aea1-bd0e3ef81a5c",
   "metadata": {
    "tags": []
   },
   "outputs": [],
   "source": [
    "for cluster_num, df in cluster_df.groupby('class_thre_0.2'):\n",
    "    print('クラスタ'+ str(cluster_num) +'： 要素数' + str(len(df)))\n",
    "    display(df.loc[:,['pred','label']])\n",
    "    print(\"\")"
   ]
  }
 ],
 "metadata": {
  "kernelspec": {
   "display_name": "develop",
   "language": "python",
   "name": "develop"
  },
  "language_info": {
   "codemirror_mode": {
    "name": "ipython",
    "version": 3
   },
   "file_extension": ".py",
   "mimetype": "text/x-python",
   "name": "python",
   "nbconvert_exporter": "python",
   "pygments_lexer": "ipython3",
   "version": "3.7.10"
  }
 },
 "nbformat": 4,
 "nbformat_minor": 5
}
