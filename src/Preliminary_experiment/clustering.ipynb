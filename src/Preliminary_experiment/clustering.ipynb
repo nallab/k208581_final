{
 "cells": [
  {
   "cell_type": "markdown",
   "id": "f9215dd4-f2b5-495e-9606-2ffd0e6a4d5d",
   "metadata": {},
   "source": [
    "# Clusteringするノートブック"
   ]
  },
  {
   "cell_type": "code",
   "execution_count": null,
   "id": "1a346b33-4207-4250-b5f2-bd2d31fc4780",
   "metadata": {},
   "outputs": [],
   "source": [
    "import pandas as pd\n",
    "import numpy as np\n",
    "import matplotlib.pyplot as plt\n",
    "from matplotlib import rc, font_manager\n",
    "import seaborn as sns\n",
    "from matplotlib.ticker import ScalarFormatter"
   ]
  },
  {
   "cell_type": "code",
   "execution_count": null,
   "id": "a903670e-f039-4c38-baa7-2d6a16d0b5fd",
   "metadata": {},
   "outputs": [],
   "source": [
    "# プロットする図やフォントのサイズ設定\n",
    "plt.rcParams['figure.figsize'] = 10, 6\n",
    "plt.rcParams[\"font.size\"] = 13\n",
    "\n",
    "# プロットする図のフォント設定\n",
    "font_manager.fontManager.addfont('/Library/Fonts/ipaexg.ttf')\n",
    "rc('font', family='IPAEXGothic')\n",
    "\n",
    "# seabron でのプロット図の設定\n",
    "sns.set(context='talk', style='ticks', font=[\"IPAEXGothic\"], font_scale=10/6, )"
   ]
  },
  {
   "cell_type": "markdown",
   "id": "3a237cf0-6ad8-436d-a461-9886666b208f",
   "metadata": {},
   "source": [
    "# データ読み込み"
   ]
  },
  {
   "cell_type": "code",
   "execution_count": null,
   "id": "ad117f29-0c05-4fbb-9eab-8f7cd71db55e",
   "metadata": {},
   "outputs": [],
   "source": [
    "df = pd.read_pickle('../../pickles/pre_exp_df.pkl')\n",
    "df.head(3)"
   ]
  },
  {
   "cell_type": "markdown",
   "id": "69aa1f09-c7de-4b80-a916-ceed45360b21",
   "metadata": {},
   "source": [
    "- 階層クラスタリングを用いて曖昧さを考慮したまとまりの作成を実施する"
   ]
  },
  {
   "cell_type": "code",
   "execution_count": null,
   "id": "19e013fb-7f0a-4429-b7b8-a675f23e1242",
   "metadata": {},
   "outputs": [],
   "source": [
    "list_pred_vec = df['pred_vec'].tolist()\n",
    "pred_vec_index = df.pred_vec.index\n",
    "\n",
    "result = linkage(list_pred_vec,\n",
    "                 method='ward',\n",
    "                 metric='euclidean')"
   ]
  },
  {
   "cell_type": "code",
   "execution_count": null,
   "id": "2207d4ef-3c4f-44bb-b1f0-abe9fa02a425",
   "metadata": {},
   "outputs": [],
   "source": [
    "is_key_obj_duplicated = df.duplicated(subset=['key','pre_obj'])\n",
    "df = df.loc[~is_key_obj_duplicated,['key','pred','pre_obj','pred_vec','label']].reset_index(drop=True)"
   ]
  },
  {
   "cell_type": "code",
   "execution_count": null,
   "id": "09a53be3-ed6d-4512-9f87-bbb77f81c23b",
   "metadata": {},
   "outputs": [],
   "source": [
    "df.loc[:,['key','pred','pre_obj']].nunique()"
   ]
  },
  {
   "cell_type": "code",
   "execution_count": null,
   "id": "788d9381-4b0e-46da-a521-5a789edfa241",
   "metadata": {},
   "outputs": [],
   "source": [
    "df.shape"
   ]
  },
  {
   "cell_type": "code",
   "execution_count": null,
   "id": "b52371cd-9ff2-46e6-9596-f58532914c7c",
   "metadata": {},
   "outputs": [],
   "source": [
    "from scipy.cluster.hierarchy import linkage, fcluster, cophenet, dendrogram"
   ]
  },
  {
   "cell_type": "code",
   "execution_count": null,
   "id": "dc176883-43dd-4ab1-9065-60e660caabfe",
   "metadata": {},
   "outputs": [],
   "source": [
    "list_pred_vec = df['pred_vec'].tolist()\n",
    "pred_vec_idnex = df.index\n",
    "\n",
    "result = linkage(list_pred_vec,\n",
    "                 method='ward',\n",
    "                 metric='euclidean')"
   ]
  },
  {
   "cell_type": "code",
   "execution_count": null,
   "id": "3d9e13cc-03d3-4981-aa6b-7b77b38f516b",
   "metadata": {},
   "outputs": [],
   "source": [
    "threshold = 0.1 * np.max(result[:, 2])\n",
    "threshold2 = 0.15 * np.max(result[:, 2])\n",
    "threshold3 = 0.2 * np.max(result[:, 2])\n",
    "threshold4 = 0.25 * np.max(result[:, 2])"
   ]
  },
  {
   "cell_type": "code",
   "execution_count": null,
   "id": "4e5ca98e-32d0-4dbf-aa60-bb882736cb03",
   "metadata": {
    "tags": []
   },
   "outputs": [],
   "source": [
    "fig, ax = plt.subplots(figsize = (15,10))\n",
    "\n",
    "dendrogram(result,\n",
    "           labels=list(df['label']),\n",
    "           color_threshold=threshold3)\n",
    "\n",
    "ax.axhline(threshold3, linestyle='--', color='r')\n",
    "sns.despine()\n",
    "# plt.title(\"pred_cluster_02\")\n",
    "# ax.legend()\n",
    "ax.set(xlabel = '', ylabel='Threshold')\n",
    "plt.xticks(fontsize=13)\n",
    "\n",
    "ax.yaxis.set_major_formatter(ScalarFormatter(useMathText=True)) \n",
    "# plt.savefig('./output/02_cluster.png', transparent = True, bbox_inches='tight')  "
   ]
  },
  {
   "cell_type": "code",
   "execution_count": null,
   "id": "f5db0f72-2fdc-4248-bcd2-b98f10b7d1f1",
   "metadata": {},
   "outputs": [],
   "source": [
    "# criterion は, fcluster 作成でのクラスタ選びのアルゴリズム\n",
    "# 他にもいろんなアルゴリズムがある\n",
    "# fcluster の出力_array のindex は, 入力データのindex に属する \n",
    "\n",
    "cluster1 = fcluster(result,\n",
    "                    threshold,\n",
    "                    criterion='distance')\n",
    "\n",
    "cluster2 = fcluster(result,\n",
    "                    threshold2,\n",
    "                    criterion='distance')\n",
    "\n",
    "cluster3 = fcluster(result,\n",
    "                    threshold3,\n",
    "                    criterion='distance')\n",
    "\n",
    "cluster4 = fcluster(result,\n",
    "                    threshold4,\n",
    "                    criterion='distance')"
   ]
  },
  {
   "cell_type": "code",
   "execution_count": null,
   "id": "afb4d95d-7d52-4c9e-a95c-92bbb646abc5",
   "metadata": {},
   "outputs": [],
   "source": [
    "# 階層クラスター分析の結果をDataFrame化\n",
    "_cluster = pd.DataFrame({'class_thre_0.1':cluster1,\n",
    "                         'class_thre_0.15':cluster2,\n",
    "                         'class_thre_0.2':cluster3,\n",
    "                         'class_thre_0.25':cluster4,\n",
    "                        }\n",
    "                        , index = pred_vec_idnex)\n",
    "\n",
    "display(_cluster.head())"
   ]
  },
  {
   "cell_type": "code",
   "execution_count": null,
   "id": "bfbf2fec-a7ec-4012-a5be-8872840a2355",
   "metadata": {},
   "outputs": [],
   "source": [
    "_cluster.nunique()"
   ]
  },
  {
   "cell_type": "code",
   "execution_count": null,
   "id": "a75c1aaa-a4f3-48c6-ad5a-06f962c29923",
   "metadata": {},
   "outputs": [],
   "source": [
    "# 元データと分析結果を結合\n",
    "cluster_df = pd.concat([df, _cluster] ,axis=1)\n",
    "display(cluster_df.head())"
   ]
  },
  {
   "cell_type": "code",
   "execution_count": null,
   "id": "b7526107-3792-4637-bf8f-f13288b86611",
   "metadata": {},
   "outputs": [],
   "source": [
    "cluster_df[cluster_df.pred.str.contains(\"木\")]"
   ]
  },
  {
   "cell_type": "code",
   "execution_count": null,
   "id": "31b30cb3-e955-4976-a633-ff31a5bb341f",
   "metadata": {},
   "outputs": [],
   "source": [
    "cluster_df[cluster_df['class_thre_0.2'] == 2]"
   ]
  },
  {
   "cell_type": "code",
   "execution_count": null,
   "id": "605a054e-c85d-4894-b0f1-c049f9952d97",
   "metadata": {},
   "outputs": [],
   "source": [
    "cluster_df[cluster_df['class_thre_0.2'] == 2]"
   ]
  },
  {
   "cell_type": "code",
   "execution_count": null,
   "id": "c4978564-0c47-4b12-ad90-1cb14e67392b",
   "metadata": {},
   "outputs": [],
   "source": [
    "for cluster_num, df in cluster_df.groupby('class_thre_0.2'):\n",
    "    print('クラスタ'+ str(cluster_num) +'： 要素数' + str(len(df)))\n",
    "    display(df.pred.value_counts(normalize=True).rename('相対頻度').to_frame().style.bar(vmin=0, vmax=1))\n",
    "    print(\"\")"
   ]
  },
  {
   "cell_type": "code",
   "execution_count": null,
   "id": "58bd1072-173b-47ea-832e-90faab200cc2",
   "metadata": {
    "tags": []
   },
   "outputs": [],
   "source": [
    "for cluster_num, df in cluster_df.groupby('class_thre_0.2'):\n",
    "    print('クラスタ'+ str(cluster_num) +'： 要素数' + str(len(df)))\n",
    "    display(df.loc[:,['pred','label']])\n",
    "    print(\"\")"
   ]
  },
  {
   "cell_type": "code",
   "execution_count": null,
   "id": "a1ddc3a1-05df-4525-a7d4-fd799958a11a",
   "metadata": {},
   "outputs": [],
   "source": [
    "cluster_df.shape"
   ]
  }
 ],
 "metadata": {
  "kernelspec": {
   "display_name": "develop",
   "language": "python",
   "name": "develop"
  },
  "language_info": {
   "codemirror_mode": {
    "name": "ipython",
    "version": 3
   },
   "file_extension": ".py",
   "mimetype": "text/x-python",
   "name": "python",
   "nbconvert_exporter": "python",
   "pygments_lexer": "ipython3",
   "version": "3.7.10"
  }
 },
 "nbformat": 4,
 "nbformat_minor": 5
}
