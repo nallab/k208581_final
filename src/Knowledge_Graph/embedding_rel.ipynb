{
 "cells": [
  {
   "cell_type": "markdown",
   "id": "773b89d0-7ecc-4de3-a450-ea1710fc83c4",
   "metadata": {},
   "source": [
    "## Pykg2vecのEmbedding結果からvecを抽出"
   ]
  },
  {
   "cell_type": "code",
   "execution_count": null,
   "id": "61aa9bd6-0e32-4a60-8856-d8c9820d88e0",
   "metadata": {},
   "outputs": [],
   "source": [
    "import pandas as pd\n",
    "import numpy as np\n",
    "import matplotlib.pyplot as plt\n",
    "from matplotlib import rc, font_manager\n",
    "import seaborn as sns"
   ]
  },
  {
   "cell_type": "code",
   "execution_count": null,
   "id": "7ab4cdf1-f74c-4744-910f-a1f1d7834875",
   "metadata": {},
   "outputs": [],
   "source": [
    "# プロットする図のサイズ設定\n",
    "plt.rcParams['figure.figsize'] = 10, 6\n",
    "plt.rcParams[\"font.size\"] = 13\n",
    "# プロットする図のフォント設定\n",
    "font_manager.fontManager.addfont('/Library/Fonts/ipaexg.ttf')\n",
    "rc('font', family='IPAEXGothic')"
   ]
  },
  {
   "cell_type": "markdown",
   "id": "6dee2dde-06d2-454f-a3e3-6c8d921d9097",
   "metadata": {},
   "source": [
    "- 予備実験データの読み込み"
   ]
  },
  {
   "cell_type": "code",
   "execution_count": null,
   "id": "7464df63-eae3-4fe9-adb6-da9a7ea0410c",
   "metadata": {},
   "outputs": [],
   "source": [
    "cluster_df = pd.read_pickle('../../pickles/pre_exp_df.pkl')\n",
    "cluster_df.head(3)"
   ]
  },
  {
   "cell_type": "code",
   "execution_count": null,
   "id": "b1fa5673-23a5-4af4-b20d-e213c1d90cf7",
   "metadata": {},
   "outputs": [],
   "source": [
    "df = cluster_df.loc[:,['key','pred','pre_obj','label']]"
   ]
  },
  {
   "cell_type": "markdown",
   "id": "3da1940e-ac7e-48ad-a90f-7198ccdac4c3",
   "metadata": {},
   "source": [
    "- pykg2vecのEmbedding結果をload"
   ]
  },
  {
   "cell_type": "code",
   "execution_count": null,
   "id": "1a700a43-1dde-462c-b0a3-5af453179e1f",
   "metadata": {},
   "outputs": [],
   "source": [
    "label_path = './train_dir/model_1500/embeddings/transe/ent_labels.tsv'\n",
    "emb_path = './train_dir/model_1500/embeddings/transe/ent_embedding.tsv'\n",
    "\n",
    "label_df = pd.read_table(label_path, names=['label'])\n",
    "emb_df = pd.read_table(emb_path, header=None)\n",
    "label_df['embedding'] = emb_df.to_numpy().tolist()\n",
    "\n",
    "pd.to_pickle(label_df, '../../pickles/all_KGE_1500.pkl')"
   ]
  },
  {
   "cell_type": "code",
   "execution_count": null,
   "id": "ab7bccb2-b58a-4c5a-add9-d1ef64ab62fe",
   "metadata": {},
   "outputs": [],
   "source": [
    "KGE_df = pd.read_pickle('../../pickles/all_KGE_1500.pkl')\n",
    "KGE_df.head(3)"
   ]
  },
  {
   "cell_type": "markdown",
   "id": "70ab734c-700c-46f8-9205-62aa0d47723f",
   "metadata": {},
   "source": [
    "- key, pre_obj の要素をembedding結果から抽出"
   ]
  },
  {
   "cell_type": "code",
   "execution_count": null,
   "id": "d8f3fb80-5e06-4234-8f0d-48f3cc1589ce",
   "metadata": {},
   "outputs": [],
   "source": [
    "def try_convert_val(x):\n",
    "    try:\n",
    "        return np.array(KGE_df[KGE_df['label'].isin([x])].loc[:,'embedding'].values[0])\n",
    "    except:\n",
    "        return np.NaN"
   ]
  },
  {
   "cell_type": "code",
   "execution_count": null,
   "id": "19f9adfc-008d-4455-8714-cc810f55fbfd",
   "metadata": {},
   "outputs": [],
   "source": [
    "df['key_vec'] = df.key.map(lambda x: try_convert_val(x))"
   ]
  },
  {
   "cell_type": "code",
   "execution_count": null,
   "id": "2a41182c-87bb-4c36-9f28-04ea77a068b5",
   "metadata": {},
   "outputs": [],
   "source": [
    "df['obj_vec'] = df.pre_obj.map(lambda x: try_convert_val(x))"
   ]
  },
  {
   "cell_type": "code",
   "execution_count": null,
   "id": "876ca2e1-005b-419c-a679-a52c6e3b26ea",
   "metadata": {},
   "outputs": [],
   "source": [
    "df = df.dropna()\n",
    "df = df.reset_index(drop=True)"
   ]
  },
  {
   "cell_type": "code",
   "execution_count": null,
   "id": "2e6eddaf-d3a9-49af-b481-b5010f0bbfec",
   "metadata": {},
   "outputs": [],
   "source": [
    "df['pred_vec'] = df['obj_vec'] - df['key_vec']"
   ]
  },
  {
   "cell_type": "code",
   "execution_count": null,
   "id": "07b05cdb-c5d9-4def-900f-3d58d97f48cb",
   "metadata": {},
   "outputs": [],
   "source": [
    "df.head(3)"
   ]
  },
  {
   "cell_type": "code",
   "execution_count": null,
   "id": "ceb987b8-bba0-42fd-92da-23b39e9222d5",
   "metadata": {},
   "outputs": [],
   "source": [
    "df.shape"
   ]
  },
  {
   "cell_type": "code",
   "execution_count": null,
   "id": "f933c013-a025-4b8f-b171-2b6edeeb42f6",
   "metadata": {},
   "outputs": [],
   "source": [
    "pd.to_pickle(df,'../../pickles/KGE_1500.pkl')"
   ]
  }
 ],
 "metadata": {
  "kernelspec": {
   "display_name": "develop",
   "language": "python",
   "name": "develop"
  },
  "language_info": {
   "codemirror_mode": {
    "name": "ipython",
    "version": 3
   },
   "file_extension": ".py",
   "mimetype": "text/x-python",
   "name": "python",
   "nbconvert_exporter": "python",
   "pygments_lexer": "ipython3",
   "version": "3.7.10"
  }
 },
 "nbformat": 4,
 "nbformat_minor": 5
}
