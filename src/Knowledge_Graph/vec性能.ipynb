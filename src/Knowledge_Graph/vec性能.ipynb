{
 "cells": [
  {
   "cell_type": "markdown",
   "id": "bf7634ce-ccfa-4cfa-8278-94945fff70e4",
   "metadata": {},
   "source": [
    "## ベクトル性能の良し悪し\n",
    "#### ベクトル間距離測定"
   ]
  },
  {
   "cell_type": "code",
   "execution_count": null,
   "id": "a6debc2e-ae74-41eb-a0aa-69396e9d8fae",
   "metadata": {},
   "outputs": [],
   "source": [
    "# ライブラリのimport \n",
    "\n",
    "import pandas as pd\n",
    "import os\n",
    "import numpy as np"
   ]
  },
  {
   "cell_type": "markdown",
   "id": "43d1283f-dfb3-4276-a0df-d9f32832d7f8",
   "metadata": {},
   "source": [
    "- データ読み込み"
   ]
  },
  {
   "cell_type": "code",
   "execution_count": null,
   "id": "9caacf4c-c5e8-4dce-8421-82c5736e7798",
   "metadata": {
    "tags": []
   },
   "outputs": [],
   "source": [
    "df_kge = pd.read_pickle('../../pickles/KGE_1500.pkl')\n",
    "df_kge.head()\n",
    "\n",
    "df_w2v = pd.read_pickle('../../pickles/pre_exp_df.pkl')\n",
    "df_w2v.head()"
   ]
  },
  {
   "cell_type": "markdown",
   "id": "0f88aeb9-78dc-445e-b31c-773515da7303",
   "metadata": {},
   "source": [
    "- ユークリッド距離関数"
   ]
  },
  {
   "cell_type": "code",
   "execution_count": null,
   "id": "7efa0c12-d651-4056-9078-85807996a699",
   "metadata": {},
   "outputs": [],
   "source": [
    "def euclidean_distance(x, y):   \n",
    "    return np.sqrt(np.sum((x - y) ** 2))"
   ]
  },
  {
   "cell_type": "code",
   "execution_count": null,
   "id": "bb2bddd5-9136-45c8-8fc7-b55686e90c85",
   "metadata": {},
   "outputs": [],
   "source": [
    "def cluster_eval(pair_):\n",
    "    x, y = pair_.iloc[[0,1],:]['pred_vec']\n",
    "    pair_min = euclidean_distance(x, y)\n",
    "\n",
    "    x, y = pair_.iloc[[0,2],:]['pred_vec']\n",
    "    pair_mid = euclidean_distance(x, y)\n",
    "\n",
    "    x, y = pair_.iloc[[0,3],:]['pred_vec']\n",
    "    pair_max = euclidean_distance(x, y)\n",
    "    \n",
    "    return [pair_min, pair_mid, pair_max]"
   ]
  },
  {
   "cell_type": "code",
   "execution_count": null,
   "id": "9dce9257-881d-4d3a-9c19-2d775378764d",
   "metadata": {},
   "outputs": [],
   "source": [
    "# 小：海老系クラスタ, 中：元クラスタ, 大：シンボルクラスタ\n",
    "kge_pair_1 = df_kge.iloc[[501,532,500,499],:]\n",
    "w2v_pair_1 = df_w2v.iloc[[501,532,500,499],:]\n",
    "\n",
    "kge_dis_df = pd.DataFrame(cluster_eval(kge_pair_1)).T\n",
    "w2v_dis_df = pd.DataFrame(cluster_eval(w2v_pair_1)).T"
   ]
  },
  {
   "cell_type": "code",
   "execution_count": null,
   "id": "edcaf2a6-355e-491e-a746-1165eea3ad5d",
   "metadata": {},
   "outputs": [],
   "source": [
    "# 小：海クラスタ, 中：元クラスタ, 大：シンボルクラスタ\n",
    "kge_pair_2 = df_kge.iloc[[872,441,873,871],:]\n",
    "w2v_pair_2 = df_w2v.iloc[[872,441,873,871],:]\n",
    "\n",
    "kge_dis_df = kge_dis_df.append([cluster_eval(kge_pair_2)])\n",
    "w2v_dis_df = w2v_dis_df.append([cluster_eval(w2v_pair_2)])"
   ]
  },
  {
   "cell_type": "code",
   "execution_count": null,
   "id": "d6b8897e-7415-4728-8ea8-0cc98b972678",
   "metadata": {},
   "outputs": [],
   "source": [
    "# 小：海クラスタ, 中：元クラスタ, 大：シンボルクラスタ\n",
    "kge_pair_3 = df_kge.iloc[[441,872,439,436],:]\n",
    "w2v_pair_3 = df_w2v.iloc[[441,872,439,436],:]\n",
    "\n",
    "kge_dis_df = kge_dis_df.append([cluster_eval(kge_pair_3)])\n",
    "w2v_dis_df = w2v_dis_df.append([cluster_eval(w2v_pair_3)])"
   ]
  },
  {
   "cell_type": "code",
   "execution_count": null,
   "id": "5baedb0d-db0d-46e6-a248-97632a948474",
   "metadata": {},
   "outputs": [],
   "source": [
    "# 小：キャラクラスタ, 中：元クラスタ, 大：シンボルクラスタ\n",
    "kge_pair_4 = df_kge.iloc[[481,49,482,490],:]\n",
    "w2v_pair_4 = df_w2v.iloc[[481,49,482,490],:]\n",
    "\n",
    "kge_dis_df = kge_dis_df.append([cluster_eval(kge_pair_4)])\n",
    "w2v_dis_df = w2v_dis_df.append([cluster_eval(w2v_pair_4)])"
   ]
  },
  {
   "cell_type": "code",
   "execution_count": null,
   "id": "6e04e785-6aeb-4da6-ae8b-666f4e914d59",
   "metadata": {},
   "outputs": [],
   "source": [
    "# 小：キャラクラスタ, 中：歌など(元クラスタ), 大：シンボルクラスタ\n",
    "kge_pair_5 = df_kge.iloc[[49,481,50,56],:]\n",
    "w2v_pair_5 = df_w2v.iloc[[49,481,50,56],:]\n",
    "\n",
    "kge_dis_df = kge_dis_df.append([cluster_eval(kge_pair_5)])\n",
    "w2v_dis_df = w2v_dis_df.append([cluster_eval(w2v_pair_5)])"
   ]
  },
  {
   "cell_type": "code",
   "execution_count": null,
   "id": "127720b0-b91f-4eaf-aa14-78fa4f120fad",
   "metadata": {},
   "outputs": [],
   "source": [
    "# 小：川クラスタ, 中：元クラスタ, 大：シンボルクラスタ\n",
    "kge_pair_6 = df_kge.iloc[[74,183, 73, 79],:]\n",
    "w2v_pair_6 = df_w2v.iloc[[74,183, 73, 79],:]\n",
    "\n",
    "kge_dis_df = kge_dis_df.append([cluster_eval(kge_pair_6)])\n",
    "w2v_dis_df = w2v_dis_df.append([cluster_eval(w2v_pair_6)])"
   ]
  },
  {
   "cell_type": "code",
   "execution_count": null,
   "id": "4d75bed5-8ba8-4cc0-8792-9667fcf2d7ec",
   "metadata": {},
   "outputs": [],
   "source": [
    "# 小：川クラスタ, 中：元クラスタ, 大：シンボルクラスタ\n",
    "kge_pair_7 = df_kge.iloc[[183,74, 184, 195],:]\n",
    "w2v_pair_7 = df_w2v.iloc[[183,74, 184, 195],:]\n",
    "\n",
    "kge_dis_df = kge_dis_df.append([cluster_eval(kge_pair_7)])\n",
    "w2v_dis_df = w2v_dis_df.append([cluster_eval(w2v_pair_7)])"
   ]
  },
  {
   "cell_type": "code",
   "execution_count": null,
   "id": "3be40a09-3f8f-415b-af36-11bf2925b5f5",
   "metadata": {},
   "outputs": [],
   "source": [
    "# 小：キャラクラスタ, 中：元クラスタ, 大：シンボルクラスタ\n",
    "kge_pair_8 = df_kge.iloc[[405, 851, 407, 415],:]\n",
    "w2v_pair_8 = df_w2v.iloc[[405, 851, 407, 415],:]\n",
    "\n",
    "kge_dis_df = kge_dis_df.append([cluster_eval(kge_pair_8)])\n",
    "w2v_dis_df = w2v_dis_df.append([cluster_eval(w2v_pair_8)])"
   ]
  },
  {
   "cell_type": "code",
   "execution_count": null,
   "id": "ab215bac-7d40-4230-9800-2cf7bd3e1ca0",
   "metadata": {},
   "outputs": [],
   "source": [
    "# 小：キャラクラスタ, 中：元クラスタ, 大：シンボルクラスタ\n",
    "kge_pair_9 = df_kge.iloc[[851, 405, 852, 858],:]\n",
    "w2v_pair_9 = df_w2v.iloc[[851, 405, 852, 858],:]\n",
    "\n",
    "kge_dis_df = kge_dis_df.append([cluster_eval(kge_pair_9)])\n",
    "w2v_dis_df = w2v_dis_df.append([cluster_eval(w2v_pair_9)])"
   ]
  },
  {
   "cell_type": "code",
   "execution_count": null,
   "id": "e86ace7f-de86-46cd-8337-37a582ac097d",
   "metadata": {},
   "outputs": [],
   "source": [
    "# 小：スタジアムクラスタ, 中：元クラスタ, 大：シンボルクラスタ\n",
    "kge_pair_10 = df_kge.iloc[[314, 350, 321, 338],:]\n",
    "w2v_pair_10 = df_w2v.iloc[[314, 350, 321, 338],:]\n",
    "\n",
    "kge_dis_df = kge_dis_df.append([cluster_eval(kge_pair_10)])\n",
    "w2v_dis_df = w2v_dis_df.append([cluster_eval(w2v_pair_10)])"
   ]
  },
  {
   "cell_type": "code",
   "execution_count": null,
   "id": "508fba21-ce5f-4e0e-b1bb-1b1e59259b73",
   "metadata": {},
   "outputs": [],
   "source": [
    "kge_dis_df = kge_dis_df.drop_duplicates().reset_index(drop=True).rename({0:'近',1:'中',2:'遠'},axis=1)\n",
    "w2v_dis_df = w2v_dis_df.drop_duplicates().reset_index(drop=True).rename({0:'近',1:'中',2:'遠'},axis=1)"
   ]
  },
  {
   "cell_type": "code",
   "execution_count": null,
   "id": "0549ba5f-1c3c-486a-af2d-5103f635e7da",
   "metadata": {},
   "outputs": [],
   "source": [
    "kge_dis_df.mean()"
   ]
  },
  {
   "cell_type": "code",
   "execution_count": null,
   "id": "50a09fa5-59dd-4235-9455-1616c1f31bac",
   "metadata": {},
   "outputs": [],
   "source": [
    "w2v_dis_df.mean()"
   ]
  }
 ],
 "metadata": {
  "kernelspec": {
   "display_name": "develop",
   "language": "python",
   "name": "develop"
  },
  "language_info": {
   "codemirror_mode": {
    "name": "ipython",
    "version": 3
   },
   "file_extension": ".py",
   "mimetype": "text/x-python",
   "name": "python",
   "nbconvert_exporter": "python",
   "pygments_lexer": "ipython3",
   "version": "3.7.10"
  }
 },
 "nbformat": 4,
 "nbformat_minor": 5
}
