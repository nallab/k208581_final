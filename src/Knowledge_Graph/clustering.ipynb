{
 "cells": [
  {
   "cell_type": "markdown",
   "id": "a99558a7-c1e7-492f-b0e7-c8f48909eae9",
   "metadata": {},
   "source": [
    "# Clusteringするノートブック"
   ]
  },
  {
   "cell_type": "code",
   "execution_count": null,
   "id": "a157f3f5-4252-44ff-8320-9e3d3c49da21",
   "metadata": {},
   "outputs": [],
   "source": [
    "import pandas as pd\n",
    "import numpy as np\n",
    "import matplotlib.pyplot as plt\n",
    "from matplotlib import rc, font_manager\n",
    "import seaborn as sns\n",
    "from matplotlib.ticker import ScalarFormatter"
   ]
  },
  {
   "cell_type": "code",
   "execution_count": null,
   "id": "b7c36601-079a-4530-9ab9-21afa268b732",
   "metadata": {},
   "outputs": [],
   "source": [
    "# プロットする図やフォントのサイズ設定\n",
    "plt.rcParams['figure.figsize'] = 10, 6\n",
    "plt.rcParams[\"font.size\"] = 13\n",
    "\n",
    "# プロットする図のフォント設定\n",
    "font_manager.fontManager.addfont('/Library/Fonts/ipaexg.ttf')\n",
    "rc('font', family='IPAEXGothic')\n",
    "\n",
    "# seabron でのプロット図の設定\n",
    "sns.set(context='talk', style='ticks', font=[\"IPAEXGothic\"], font_scale=10/6, )"
   ]
  },
  {
   "cell_type": "markdown",
   "id": "14a99b74-79b4-4d88-bc58-117fc2af0fd2",
   "metadata": {},
   "source": [
    "# データ読み込み"
   ]
  },
  {
   "cell_type": "code",
   "execution_count": null,
   "id": "02da6283-e453-4e08-8155-9ac6c324d276",
   "metadata": {},
   "outputs": [],
   "source": [
    "df = pd.read_pickle('../../pickles/KGE_1500.pkl')\n",
    "df.head(3)"
   ]
  },
  {
   "cell_type": "markdown",
   "id": "09581bc7-4de8-4c33-b52a-6601f19ba320",
   "metadata": {},
   "source": [
    "- 階層クラスタリングを用いて曖昧さを考慮したまとまりの作成を実施する"
   ]
  },
  {
   "cell_type": "code",
   "execution_count": null,
   "id": "15f0f91b-1d0b-4872-aafc-0568ba1d2fb9",
   "metadata": {},
   "outputs": [],
   "source": [
    "from scipy.cluster.hierarchy import linkage, fcluster, cophenet, dendrogram"
   ]
  },
  {
   "cell_type": "code",
   "execution_count": null,
   "id": "4aa70cc0-aafb-4b96-9e87-c02564b2eb88",
   "metadata": {},
   "outputs": [],
   "source": [
    "list_pred_vec = df['pred_vec'].tolist()\n",
    "pred_vec_index = df.pred_vec.index\n",
    "\n",
    "result = linkage(list_pred_vec,\n",
    "                 method='ward',\n",
    "                 metric='euclidean')"
   ]
  },
  {
   "cell_type": "code",
   "execution_count": null,
   "id": "ce6efe4d-9bba-4742-a0c6-cca40bd257f2",
   "metadata": {},
   "outputs": [],
   "source": [
    "threshold = 0.1 * np.max(result[:, 2])\n",
    "threshold2 = 0.15 * np.max(result[:, 2])\n",
    "threshold3 = 0.2 * np.max(result[:, 2])\n",
    "threshold4 = 0.25 * np.max(result[:, 2])"
   ]
  },
  {
   "cell_type": "code",
   "execution_count": null,
   "id": "401af311-41ef-4295-b808-d09bbc7d9187",
   "metadata": {},
   "outputs": [],
   "source": [
    "fig, ax = plt.subplots(figsize = (15,10))\n",
    "\n",
    "dendrogram(result,\n",
    "           labels=list(df['label']),\n",
    "           color_threshold=threshold3)\n",
    "\n",
    "ax.axhline(threshold3, linestyle='--', color='r')\n",
    "sns.despine()\n",
    "# plt.title(\"pred_cluster_01\")\n",
    "# ax.legend()\n",
    "ax.set(xlabel = '', ylabel='Threshold')\n",
    "plt.xticks(fontsize=13)\n",
    "\n",
    "ax.yaxis.set_major_formatter(ScalarFormatter(useMathText=True)) \n",
    "# plt.savefig('./output/015_cluster.png', transparent = True, bbox_inches='tight')  "
   ]
  },
  {
   "cell_type": "code",
   "execution_count": null,
   "id": "eab3b575-eedc-49c2-9ade-b59730280cc2",
   "metadata": {},
   "outputs": [],
   "source": [
    "# criterion は, fcluster 作成でのクラスタ選びのアルゴリズム\n",
    "# 他にもいろんなアルゴリズムがある\n",
    "# fcluster の出力_array のindex は, 入力データのindex に属する \n",
    "\n",
    "cluster1 = fcluster(result,\n",
    "                    threshold,\n",
    "                    criterion='distance')\n",
    "\n",
    "cluster2 = fcluster(result,\n",
    "                    threshold2,\n",
    "                    criterion='distance')\n",
    "\n",
    "cluster3 = fcluster(result,\n",
    "                    threshold3,\n",
    "                    criterion='distance')\n",
    "\n",
    "cluster4 = fcluster(result,\n",
    "                    threshold4,\n",
    "                    criterion='distance')"
   ]
  },
  {
   "cell_type": "code",
   "execution_count": null,
   "id": "7e4eed8b-d3ad-465e-b0e2-40a2bade6633",
   "metadata": {},
   "outputs": [],
   "source": [
    "# 階層クラスター分析の結果をDataFrame化\n",
    "_cluster = pd.DataFrame({'class_thre_0.1':cluster1,\n",
    "                         'class_thre_0.15':cluster2,\n",
    "                         'class_thre_0.2':cluster3,\n",
    "                         'class_thre_0.25':cluster4,\n",
    "                        }\n",
    "                        , index = pred_vec_index)\n",
    "\n",
    "display(_cluster.head())"
   ]
  },
  {
   "cell_type": "code",
   "execution_count": null,
   "id": "4ca52292-166f-4db7-8de5-31807bdfe99f",
   "metadata": {},
   "outputs": [],
   "source": [
    "_cluster.nunique()"
   ]
  },
  {
   "cell_type": "code",
   "execution_count": null,
   "id": "ef560f43-856d-4560-a24b-7cc7b5e0422e",
   "metadata": {},
   "outputs": [],
   "source": [
    "# 元データと分析結果を結合\n",
    "cluster_df = pd.concat([df, _cluster] ,axis=1)\n",
    "display(cluster_df.head())"
   ]
  },
  {
   "cell_type": "code",
   "execution_count": null,
   "id": "7ec0fb5d-cbc3-4a29-9cc8-501df99b9500",
   "metadata": {},
   "outputs": [],
   "source": [
    "cluster_df[cluster_df.pred.str.contains(\"木\")]"
   ]
  },
  {
   "cell_type": "code",
   "execution_count": null,
   "id": "1fcca08c-aab4-4f91-906f-caf9293aef7f",
   "metadata": {},
   "outputs": [],
   "source": [
    "cluster_df[cluster_df['class_thre_0.2'] == 2]"
   ]
  },
  {
   "cell_type": "code",
   "execution_count": null,
   "id": "da5c2941-6e4b-47ce-b542-dd8f2f75dddd",
   "metadata": {},
   "outputs": [],
   "source": [
    "for cluster_num, df in cluster_df.groupby('class_thre_0.2'):\n",
    "    print('クラスタ'+ str(cluster_num) +'： 要素数' + str(len(df)))\n",
    "    display(df.pred.value_counts(normalize=True).rename('相対頻度').to_frame().style.bar(vmin=0, vmax=1))\n",
    "    print(\"\")"
   ]
  },
  {
   "cell_type": "code",
   "execution_count": null,
   "id": "9cd0cb77-db04-4c01-9181-0978131662d8",
   "metadata": {
    "tags": []
   },
   "outputs": [],
   "source": [
    "for cluster_num, df in cluster_df.groupby('class_thre_0.2'):\n",
    "    print('クラスタ'+ str(cluster_num) +'： 要素数' + str(len(df)))\n",
    "    display(df.loc[:,['pred','label']])\n",
    "    print(\"\")"
   ]
  }
 ],
 "metadata": {
  "kernelspec": {
   "display_name": "develop",
   "language": "python",
   "name": "develop"
  },
  "language_info": {
   "codemirror_mode": {
    "name": "ipython",
    "version": 3
   },
   "file_extension": ".py",
   "mimetype": "text/x-python",
   "name": "python",
   "nbconvert_exporter": "python",
   "pygments_lexer": "ipython3",
   "version": "3.7.10"
  }
 },
 "nbformat": 4,
 "nbformat_minor": 5
}
