{
 "cells": [
  {
   "cell_type": "markdown",
   "id": "dac58d32-9799-487d-b53f-066d7ae3a8fc",
   "metadata": {},
   "source": [
    "## 学習での損失結果をグラフする"
   ]
  },
  {
   "cell_type": "code",
   "execution_count": null,
   "id": "248bd669-a40a-45e5-ade9-fee77c2de149",
   "metadata": {},
   "outputs": [],
   "source": [
    "import pandas as pd\n",
    "import numpy as np\n",
    "import matplotlib.pyplot as plt\n",
    "from matplotlib import rc, font_manager\n",
    "import seaborn as sns\n",
    "from matplotlib import ticker\n",
    "from matplotlib.ticker import ScalarFormatter"
   ]
  },
  {
   "cell_type": "code",
   "execution_count": null,
   "id": "4552bcb4-791d-4e7a-95f2-a558806861de",
   "metadata": {},
   "outputs": [],
   "source": [
    "# プロットする図のサイズ設定\n",
    "plt.rcParams['figure.figsize'] = 10, 6\n",
    "plt.rcParams[\"font.size\"] = 13\n",
    "# プロットする図のフォント設定\n",
    "font_manager.fontManager.addfont('/Library/Fonts/ipaexg.ttf')\n",
    "rc('font', family='IPAEXGothic')"
   ]
  },
  {
   "cell_type": "markdown",
   "id": "6a06c6b4-559a-4ea9-bce9-2b35e56dceb2",
   "metadata": {},
   "source": [
    "- データの読み込み"
   ]
  },
  {
   "cell_type": "code",
   "execution_count": null,
   "id": "14de2b24-7063-4479-8ae3-9bbcdb682816",
   "metadata": {},
   "outputs": [],
   "source": [
    "train_loss_df = pd.read_csv('./train_dir/model_1500/results/transe_Training_results_0.csv',  usecols=['Epochs', 'Loss'])"
   ]
  },
  {
   "cell_type": "code",
   "execution_count": null,
   "id": "e29759f0-eda7-4aa8-9926-cd8f13f18d25",
   "metadata": {},
   "outputs": [],
   "source": [
    "train_loss_df"
   ]
  },
  {
   "cell_type": "code",
   "execution_count": null,
   "id": "bc98cdaa-5fe5-47b4-a1b4-641ace39306d",
   "metadata": {},
   "outputs": [],
   "source": [
    "sns.set() #  コレ\n",
    "sns.set_context('talk')\n",
    "sns.set_style(\"ticks\") # スタイルをticksに\n",
    "fig, ax = plt.subplots(figsize = (10,5))\n",
    "ax.plot(train_loss_df['Epochs'], train_loss_df['Loss'], label = 'train-Loss')\n",
    "\n",
    "sns.despine()\n",
    "ax.set(xlabel = 'Epochs', ylabel='Loss' )\n",
    "ax.legend()\n",
    "\n",
    "\n",
    "ax.yaxis.set_major_formatter(ScalarFormatter(useMathText=True)) \n",
    "# 目盛調整\n",
    "ax.xaxis.set_major_locator(ticker.MultipleLocator(50))\n",
    "\n",
    "# plt.savefig('./output/loss_500.png', transparent = True, bbox_inches='tight')  "
   ]
  },
  {
   "cell_type": "code",
   "execution_count": null,
   "id": "ba855975-2db3-4093-a2d4-124e559060f1",
   "metadata": {},
   "outputs": [],
   "source": [
    "train_loss_df_250 = train_loss_df.loc[250:,:]\n",
    "sns.set() #  コレ\n",
    "sns.set_context('talk')\n",
    "sns.set_style(\"ticks\") # スタイルをticksに\n",
    "fig, ax = plt.subplots(figsize = (10,5))\n",
    "ax.plot(train_loss_df_250['Epochs'], train_loss_df_250['Loss'], label = 'train-Loss')\n",
    "\n",
    "sns.despine()\n",
    "ax.set(xlabel = 'Epochs', ylabel='Loss' )\n",
    "ax.legend()\n",
    "\n",
    "ax.xaxis.set_major_locator(ticker.MultipleLocator(50)) \n",
    "\n",
    "# plt.savefig('./output/loss_250.png', transparent = True, bbox_inches='tight')  "
   ]
  },
  {
   "cell_type": "code",
   "execution_count": null,
   "id": "9f32b2d2-0808-42a1-b688-a5ccfc35a59c",
   "metadata": {},
   "outputs": [],
   "source": [
    "train_loss_df_400 = train_loss_df.loc[400:,:]\n",
    "sns.set() #  コレ\n",
    "sns.set_context('talk')\n",
    "sns.set_style(\"ticks\") # スタイルをticksに\n",
    "fig, ax = plt.subplots(figsize = (10,5))\n",
    "ax.plot(train_loss_df_400['Epochs'], train_loss_df_400['Loss'], label = 'train-Loss')\n",
    "\n",
    "sns.despine()\n",
    "ax.set(xlabel = 'Epochs', ylabel='Loss' )\n",
    "ax.legend()\n",
    "\n",
    "ax.xaxis.set_major_locator(ticker.MultipleLocator(50)) "
   ]
  }
 ],
 "metadata": {
  "kernelspec": {
   "display_name": "develop",
   "language": "python",
   "name": "develop"
  },
  "language_info": {
   "codemirror_mode": {
    "name": "ipython",
    "version": 3
   },
   "file_extension": ".py",
   "mimetype": "text/x-python",
   "name": "python",
   "nbconvert_exporter": "python",
   "pygments_lexer": "ipython3",
   "version": "3.7.10"
  }
 },
 "nbformat": 4,
 "nbformat_minor": 5
}
